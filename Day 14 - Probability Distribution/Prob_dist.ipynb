{
 "cells": [
  {
   "cell_type": "markdown",
   "metadata": {},
   "source": [
    "## Probability distribution"
   ]
  },
  {
   "cell_type": "markdown",
   "metadata": {},
   "source": [
    "#### The Discrete Uniform Distribution"
   ]
  },
  {
   "cell_type": "code",
   "execution_count": 1,
   "metadata": {},
   "outputs": [],
   "source": [
    "#Probability Mass Function"
   ]
  },
  {
   "cell_type": "code",
   "execution_count": 2,
   "metadata": {},
   "outputs": [
    {
     "name": "stdout",
     "output_type": "stream",
     "text": [
      "When x=1, PMF is 0.2\n"
     ]
    }
   ],
   "source": [
    "#Discrete Uniform Distribution\n",
    "from scipy.stats import randint\n",
    "\n",
    "x = 1  #change the values to 2,3,4,5 and check\n",
    "low = 1 \n",
    "high = 6 #total no. of possible outcomes + 1\n",
    "\n",
    "#The flavor of ice-cream selected by a customer is equally likely to be any one of the 5 available flavors.\n",
    "#Probability of occurrence of each outcome can be computed as follows:\n",
    "drandint = randint.pmf(x, low, high)\n",
    "print(\"When x=1, PMF is\", drandint)\n"
   ]
  },
  {
   "cell_type": "code",
   "execution_count": 3,
   "metadata": {},
   "outputs": [
    {
     "data": {
      "image/png": "[encoded data removed]",
      "text/plain": [
       "<Figure size 432x288 with 1 Axes>"
      ]
     },
     "metadata": {
      "needs_background": "light"
     },
     "output_type": "display_data"
    }
   ],
   "source": [
    "import matplotlib.pyplot as plt; plt.rcdefaults()\n",
    "import numpy as np\n",
    "import matplotlib.pyplot as plt\n",
    "%matplotlib inline\n",
    "\n",
    "low = 1\n",
    "high = 6\n",
    "x = np.arange(1, 6, 1)\n",
    "\n",
    "#Plot PMF\n",
    "y1 = randint.pmf(x, low, high)\n",
    " \n",
    "plt.bar(x, y1)\n",
    "plt.xlabel('Possible outcomes, x')\n",
    "plt.ylabel('P(X = x)')\n",
    "plt.title('The Discrete Uniform Distribution - PMF')\n",
    "plt.ylim(0,0.5)\n",
    " \n",
    "plt.show()\n"
   ]
  },
  {
   "cell_type": "code",
   "execution_count": 4,
   "metadata": {},
   "outputs": [],
   "source": [
    "#Cumulitive Density Function"
   ]
  },
  {
   "cell_type": "code",
   "execution_count": 5,
   "metadata": {},
   "outputs": [
    {
     "name": "stdout",
     "output_type": "stream",
     "text": [
      "When x=1, CDF is 0.2\n"
     ]
    }
   ],
   "source": [
    "#Discrete Uniform Distribution\n",
    "from scipy.stats import randint\n",
    "\n",
    "x = 1  #change the values to 2,3,4,5,6 and check\n",
    "low = 1 \n",
    "high = 6 #total no. of possible outcomes + 1\n",
    "\n",
    "#The flavor of ice-cream selected by a customer is equally likely to be any one of the 5 available flavors.\n",
    "#The cummulative distribution can be computed as follows:\n",
    "prandint = randint.cdf(x, low, high)\n",
    "print(\"When x=1, CDF is\", prandint)\n"
   ]
  },
  {
   "cell_type": "code",
   "execution_count": 6,
   "metadata": {},
   "outputs": [
    {
     "data": {
      "image/png": "[encoded data removed]",
      "text/plain": [
       "<Figure size 640x480 with 1 Axes>"
      ]
     },
     "metadata": {},
     "output_type": "display_data"
    }
   ],
   "source": [
    "import matplotlib.pyplot as plt; plt.rcdefaults()\n",
    "import numpy as np\n",
    "import matplotlib.pyplot as plt\n",
    "\n",
    "low = 1\n",
    "high = 6\n",
    "x = np.arange(1, 6, 1)\n",
    "\n",
    "#Plot CDF\n",
    "y2 = randint.cdf(x, low, high)\n",
    "plt.bar(x, y2)\n",
    "plt.xlabel('Possible outcomes, x')\n",
    "plt.ylabel('P(X <= x)')\n",
    "plt.title('The Discrete Uniform Distribution - CDF')\n",
    " \n",
    "plt.show()\n"
   ]
  },
  {
   "cell_type": "code",
   "execution_count": 7,
   "metadata": {},
   "outputs": [],
   "source": [
    "#All outcome have equal probabilities\n",
    "#P(1) = P(2) = P(3) = P(4) = P(5)\n",
    "#Both mean ans variance are uninterpretable \n",
    "#Expected value provide no relevant information"
   ]
  },
  {
   "cell_type": "code",
   "execution_count": null,
   "metadata": {},
   "outputs": [],
   "source": []
  },
  {
   "cell_type": "markdown",
   "metadata": {},
   "source": [
    "#### The Bernoulli Distribution"
   ]
  },
  {
   "cell_type": "code",
   "execution_count": 8,
   "metadata": {},
   "outputs": [],
   "source": [
    "#What is a Bernoulli Trial?\n",
    "#An Independent event with\n",
    "# 1 Trial \n",
    "# 2 Possibilities\n",
    "\n",
    "# E(x)=p or E(X)=1-p\n",
    "# Variance = p(1-p)"
   ]
  },
  {
   "cell_type": "markdown",
   "metadata": {},
   "source": [
    "#### The Binomial Distribution"
   ]
  },
  {
   "cell_type": "code",
   "execution_count": 9,
   "metadata": {},
   "outputs": [],
   "source": [
    "#Binomial Distribution is the distribution of the number of successes in a fixed number of Independent Bernoulli trial"
   ]
  },
  {
   "cell_type": "code",
   "execution_count": 10,
   "metadata": {},
   "outputs": [],
   "source": [
    "#Characteristics of Binomila Distribution\n",
    "#Fixed number of Trials\n",
    "#A success or failure is the outcome of a single trial\n",
    "#all trials are Independent of each other\n",
    "#All trails have equal probability to occur"
   ]
  },
  {
   "cell_type": "markdown",
   "metadata": {},
   "source": [
    "'''Currently, Sashi sells 5 different flavors of ice-cream namely, Vanilla, Chocolate, Strawberry, Black-Currant and \n",
    "Pistachio. Let's suppose the next customer purchases only 1 ice-cream, then each flavor is equally likely to be \n",
    "selected among the 5 available flavors of ice-cream'''\n",
    "Now assume every transaction involve the purchase of a single ice-cream only, calculate the probability that exactly 1 customer purchases one “Strawberry” ice-cream, in the next 5 customers."
   ]
  },
  {
   "cell_type": "code",
   "execution_count": 11,
   "metadata": {},
   "outputs": [],
   "source": [
    "#Probability Mass Function\n",
    "P(X=x) = nCx * p^x * (1-p)^n-y"
   ]
  },
  {
   "cell_type": "code",
   "execution_count": 14,
   "metadata": {},
   "outputs": [
    {
     "data": {
      "text/plain": [
       "0.4095999999999999"
      ]
     },
     "execution_count": 14,
     "metadata": {},
     "output_type": "execute_result"
    }
   ],
   "source": [
    "#Binomial Probability Distribution : PMF\n",
    "from scipy.stats import binom\n",
    "x= 1 # no. of successes\n",
    "n= 5 #no. of fixed trials\n",
    "p= 0.2 #probability of success\n",
    "\n",
    "dbinom = binom.pmf(x, n, p)\n",
    "dbinom\n"
   ]
  },
  {
   "cell_type": "code",
   "execution_count": 19,
   "metadata": {},
   "outputs": [
    {
     "data": {
      "image/png": "[encoded data removed]",
      "text/plain": [
       "<Figure size 400x200 with 1 Axes>"
      ]
     },
     "metadata": {},
     "output_type": "display_data"
    }
   ],
   "source": [
    "import matplotlib.pyplot as plt; plt.rcdefaults()\n",
    "import numpy as np\n",
    "import matplotlib.pyplot as plt\n",
    "\n",
    "n = 5\n",
    "p = 0.2\n",
    "x = np.arange(0, 6, 1)\n",
    "\n",
    "#Plot PMF\n",
    "y1 = binom.pmf(x, n, p)\n",
    "plt.figure(figsize=(4,2))\n",
    "plt.bar(x, y1)\n",
    "plt.xticks(x)\n",
    "plt.xlabel('No. of successes x, in n trials')\n",
    "plt.ylabel('P(X = x)')\n",
    "plt.title('The Binomial Distribution - PMF')\n",
    " \n",
    "plt.show()\n"
   ]
  },
  {
   "cell_type": "code",
   "execution_count": 12,
   "metadata": {},
   "outputs": [],
   "source": [
    "#Prabability Density Function"
   ]
  },
  {
   "cell_type": "markdown",
   "metadata": {},
   "source": [
    "The probability of at most 1 success occurs in 5 trials i.e., at most 1 customer in the next 5 customers purchases one “Strawberry” ice-cream, assuming that all 5 transactions involve the purchase of a single ice-cream, where the probability of success is 0.2, can be calculated as:"
   ]
  },
  {
   "cell_type": "code",
   "execution_count": 13,
   "metadata": {},
   "outputs": [
    {
     "data": {
      "text/plain": [
       "0.7372800000000002"
      ]
     },
     "execution_count": 13,
     "metadata": {},
     "output_type": "execute_result"
    }
   ],
   "source": [
    "#Binomial Probability Distribution: CDF\n",
    "from scipy.stats import binom\n",
    "x= 1 # no. of successes\n",
    "n= 5 #no. of fixed trials\n",
    "p= 0.2 #probability of success\n",
    "\n",
    "pbinom = binom.cdf(x, n, p)\n",
    "pbinom\n"
   ]
  },
  {
   "cell_type": "code",
   "execution_count": 21,
   "metadata": {},
   "outputs": [
    {
     "data": {
      "image/png": "[encoded data removed]",
      "text/plain": [
       "<Figure size 400x200 with 1 Axes>"
      ]
     },
     "metadata": {},
     "output_type": "display_data"
    }
   ],
   "source": [
    "import matplotlib.pyplot as plt; plt.rcdefaults()\n",
    "import numpy as np\n",
    "import matplotlib.pyplot as plt\n",
    "\n",
    "n = 5\n",
    "p = 0.2\n",
    "x = np.arange(0, 6, 1)\n",
    "\n",
    "#Plot CDF\n",
    "y2 = binom.cdf(x, n, p)\n",
    "plt.figure(figsize=(4,2))\n",
    "plt.bar(x, y2)\n",
    "plt.xticks(x)\n",
    "plt.xlabel('No. of successes x, in n trials')\n",
    "plt.ylabel('P(X <= x)')\n",
    "plt.title('The Binomial Distribution - CDF')\n",
    " \n",
    "plt.show()\n"
   ]
  },
  {
   "cell_type": "markdown",
   "metadata": {},
   "source": [
    "A coin is flipped 5 times. What is the Probability of getting excatly 3 head?"
   ]
  },
  {
   "cell_type": "markdown",
   "metadata": {},
   "source": [
    "p=0.5\n",
    "n=5\n",
    "x=3\n",
    "P(X=3) = 5C3*(0.3^3)*(1-0.3)^5-3"
   ]
  },
  {
   "cell_type": "code",
   "execution_count": 24,
   "metadata": {},
   "outputs": [
    {
     "data": {
      "text/plain": [
       "0.3125"
      ]
     },
     "execution_count": 24,
     "metadata": {},
     "output_type": "execute_result"
    }
   ],
   "source": [
    "pbinom = binom.pmf(3, 5, 0.5)\n",
    "pbinom"
   ]
  },
  {
   "cell_type": "markdown",
   "metadata": {},
   "source": [
    "What is the probability of finding atmost 2 head?"
   ]
  },
  {
   "cell_type": "markdown",
   "metadata": {},
   "source": [
    "P(X<=2) = P(X=0) + P(X=1) + P(X=2) "
   ]
  },
  {
   "cell_type": "code",
   "execution_count": 26,
   "metadata": {},
   "outputs": [
    {
     "data": {
      "text/plain": [
       "0.5"
      ]
     },
     "execution_count": 26,
     "metadata": {},
     "output_type": "execute_result"
    }
   ],
   "source": [
    "pbinom = binom.cdf(2,5,0.5)\n",
    "pbinom"
   ]
  },
  {
   "cell_type": "markdown",
   "metadata": {},
   "source": [
    "What is the probability of finding at least 2 heads?"
   ]
  },
  {
   "cell_type": "raw",
   "metadata": {},
   "source": [
    "P(X>=2) = P(X=2) + P(X=3) + P(X=4) + P(X=5)\n",
    "or \n",
    "P(X>=2) = P(X=2) + (1 - P(X<=2) )"
   ]
  },
  {
   "cell_type": "code",
   "execution_count": 29,
   "metadata": {},
   "outputs": [
    {
     "data": {
      "text/plain": [
       "0.8125"
      ]
     },
     "execution_count": 29,
     "metadata": {},
     "output_type": "execute_result"
    }
   ],
   "source": [
    "x_equals_2 = binom.pmf(2,5,0.5)\n",
    "x_lessthanequal_2 = binom.cdf(2,5,0.5)\n",
    "p=x_equals_2 + (1-x_lessthanequal_2)\n",
    "p"
   ]
  },
  {
   "cell_type": "code",
   "execution_count": null,
   "metadata": {},
   "outputs": [],
   "source": []
  }
 ],
 "metadata": {
  "kernelspec": {
   "display_name": "Python 3",
   "language": "python",
   "name": "python3"
  },
  "language_info": {
   "codemirror_mode": {
    "name": "ipython",
    "version": 3
   },
   "file_extension": ".py",
   "mimetype": "text/x-python",
   "name": "python",
   "nbconvert_exporter": "python",
   "pygments_lexer": "ipython3",
   "version": "3.7.3"
  }
 },
 "nbformat": 4,
 "nbformat_minor": 2
}
